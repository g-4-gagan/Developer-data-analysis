{
 "cells": [
  {
   "cell_type": "code",
   "execution_count": 1,
   "metadata": {},
   "outputs": [],
   "source": [
    "import numpy as np\n",
    "import pandas as pd\n",
    "import matplotlib.pyplot as plt\n",
    "import seaborn as sns"
   ]
  },
  {
   "cell_type": "code",
   "execution_count": 3,
   "metadata": {},
   "outputs": [],
   "source": [
    "df = pd.read_csv('updatedDatasets/Update1.csv')"
   ]
  },
  {
   "cell_type": "code",
   "execution_count": 4,
   "metadata": {},
   "outputs": [
    {
     "data": {
      "text/plain": [
       "array(['Male', nan, 'Female', 'Gender non-conforming', 'Other',\n",
       "       'Male; Gender non-conforming', 'Female; Transgender',\n",
       "       'Male; Female', 'Male; Other', 'Transgender',\n",
       "       'Transgender; Gender non-conforming',\n",
       "       'Female; Gender non-conforming',\n",
       "       'Male; Female; Transgender; Gender non-conforming; Other',\n",
       "       'Male; Female; Transgender', 'Male; Female; Other',\n",
       "       'Male; Female; Transgender; Gender non-conforming',\n",
       "       'Male; Transgender', 'Female; Transgender; Gender non-conforming',\n",
       "       'Gender non-conforming; Other',\n",
       "       'Male; Female; Gender non-conforming', 'Female; Other',\n",
       "       'Male; Transgender; Gender non-conforming', 'Transgender; Other',\n",
       "       'Male; Gender non-conforming; Other',\n",
       "       'Female; Gender non-conforming; Other',\n",
       "       'Male; Female; Gender non-conforming; Other',\n",
       "       'Female; Transgender; Other',\n",
       "       'Female; Transgender; Gender non-conforming; Other',\n",
       "       'Male; Transgender; Other', 'Male; Female; Transgender; Other'],\n",
       "      dtype=object)"
      ]
     },
     "execution_count": 4,
     "metadata": {},
     "output_type": "execute_result"
    }
   ],
   "source": [
    "df['Gender'].uniqueue()"
   ]
  },
  {
   "cell_type": "code",
   "execution_count": 6,
   "metadata": {},
   "outputs": [
    {
     "data": {
      "text/plain": [
       "29"
      ]
     },
     "execution_count": 6,
     "metadata": {},
     "output_type": "execute_result"
    }
   ],
   "source": [
    "df['Gender'].nunique()"
   ]
  },
  {
   "cell_type": "code",
   "execution_count": 7,
   "metadata": {},
   "outputs": [],
   "source": [
    "def gender_sortner(x):\n",
    "    if(x == 'Male' or x== 'Female' or pd.isna(x)):\n",
    "        return x\n",
    "    else:\n",
    "        return 'Other'\n",
    "df[\"Gender\"] = df[\"Gender\"].apply(gender_sortner)"
   ]
  },
  {
   "cell_type": "code",
   "execution_count": 9,
   "metadata": {},
   "outputs": [],
   "source": [
    "gender_groupby = df.groupby('Gender')"
   ]
  },
  {
   "cell_type": "code",
   "execution_count": 10,
   "metadata": {},
   "outputs": [
    {
     "data": {
      "text/plain": [
       "Gender\n",
       "Female    54346.519630\n",
       "Male      57497.391317\n",
       "Other     56838.943817\n",
       "Name: Salary, dtype: float64"
      ]
     },
     "execution_count": 10,
     "metadata": {},
     "output_type": "execute_result"
    }
   ],
   "source": [
    "gender_groupby['Salary'].mean()"
   ]
  },
  {
   "cell_type": "code",
   "execution_count": 20,
   "metadata": {},
   "outputs": [
    {
     "data": {
      "image/png": "[encoded data removed]",
      "text/plain": [
       "<Figure size 576x432 with 1 Axes>"
      ]
     },
     "metadata": {},
     "output_type": "display_data"
    }
   ],
   "source": [
    "fig, ax = plt.subplots(figsize =(8,6))\n",
    "ex = (0.1, 0.0, 0.0)\n",
    "plt.pie(gender_groupby['Salary'].mean(), labels =gender_groupby['Salary'].mean().index, shadow = True,explode=ex)\n",
    "plt.legend(title = \"Gender:\",loc =\"right\")\n",
    "plt.show()"
   ]
  },
  {
   "cell_type": "code",
   "execution_count": null,
   "metadata": {},
   "outputs": [],
   "source": []
  }
 ],
 "metadata": {
  "kernelspec": {
   "display_name": "Python 3",
   "language": "python",
   "name": "python3"
  },
  "language_info": {
   "codemirror_mode": {
    "name": "ipython",
    "version": 3
   },
   "file_extension": ".py",
   "mimetype": "text/x-python",
   "name": "python",
   "nbconvert_exporter": "python",
   "pygments_lexer": "ipython3",
   "version": "3.7.4"
  }
 },
 "nbformat": 4,
 "nbformat_minor": 4
}
