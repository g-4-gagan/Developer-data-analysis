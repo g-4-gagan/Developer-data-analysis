{
 "cells": [
  {
   "cell_type": "code",
   "execution_count": 1,
   "metadata": {},
   "outputs": [],
   "source": [
    "import pandas as pd\n",
    "import numpy as np\n",
    "import matplotlib.pyplot as plt\n",
    "import seaborn as s\n",
    "%matplotlib inline"
   ]
  },
  {
   "cell_type": "code",
   "execution_count": 2,
   "metadata": {},
   "outputs": [],
   "source": [
    "data = pd.read_csv(\"updatedDatasets/Update3.csv\")"
   ]
  },
  {
   "cell_type": "code",
   "execution_count": 3,
   "metadata": {},
   "outputs": [],
   "source": [
    "dataT = data[data['IDE'].notna()]"
   ]
  },
  {
   "cell_type": "code",
   "execution_count": 4,
   "metadata": {
    "scrolled": true
   },
   "outputs": [
    {
     "data": {
      "text/html": [
       "<div>\n",
       "<style scoped>\n",
       "    .dataframe tbody tr th:only-of-type {\n",
       "        vertical-align: middle;\n",
       "    }\n",
       "\n",
       "    .dataframe tbody tr th {\n",
       "        vertical-align: top;\n",
       "    }\n",
       "\n",
       "    .dataframe thead th {\n",
       "        text-align: right;\n",
       "    }\n",
       "</style>\n",
       "<table border=\"1\" class=\"dataframe\">\n",
       "  <thead>\n",
       "    <tr style=\"text-align: right;\">\n",
       "      <th></th>\n",
       "      <th>Unnamed: 0</th>\n",
       "      <th>Unnamed: 0.1</th>\n",
       "      <th>Respondent</th>\n",
       "      <th>Professional</th>\n",
       "      <th>ProgramHobby</th>\n",
       "      <th>Country</th>\n",
       "      <th>University</th>\n",
       "      <th>EmploymentStatus</th>\n",
       "      <th>FormalEducation</th>\n",
       "      <th>MajorUndergrad</th>\n",
       "      <th>...</th>\n",
       "      <th>WantWorkDatabase</th>\n",
       "      <th>HaveWorkedPlatform</th>\n",
       "      <th>WantWorkPlatform</th>\n",
       "      <th>IDE</th>\n",
       "      <th>AuditoryEnvironment</th>\n",
       "      <th>Gender</th>\n",
       "      <th>HighestEducationParents</th>\n",
       "      <th>Salary</th>\n",
       "      <th>ExpectedSalary</th>\n",
       "      <th>Assess_Scoring</th>\n",
       "    </tr>\n",
       "  </thead>\n",
       "  <tbody>\n",
       "    <tr>\n",
       "      <th>0</th>\n",
       "      <td>0</td>\n",
       "      <td>0</td>\n",
       "      <td>1</td>\n",
       "      <td>Student</td>\n",
       "      <td>Yes, both</td>\n",
       "      <td>United States</td>\n",
       "      <td>No</td>\n",
       "      <td>Not employed, and not looking for work</td>\n",
       "      <td>Secondary school</td>\n",
       "      <td>NaN</td>\n",
       "      <td>...</td>\n",
       "      <td>NaN</td>\n",
       "      <td>iOS</td>\n",
       "      <td>iOS</td>\n",
       "      <td>Atom; Xcode</td>\n",
       "      <td>Turn on some music</td>\n",
       "      <td>Male</td>\n",
       "      <td>High school</td>\n",
       "      <td>NaN</td>\n",
       "      <td>NaN</td>\n",
       "      <td>31.5</td>\n",
       "    </tr>\n",
       "  </tbody>\n",
       "</table>\n",
       "<p>1 rows × 57 columns</p>\n",
       "</div>"
      ],
      "text/plain": [
       "   Unnamed: 0  Unnamed: 0.1  Respondent Professional ProgramHobby  \\\n",
       "0           0             0           1      Student    Yes, both   \n",
       "\n",
       "         Country University                        EmploymentStatus  \\\n",
       "0  United States         No  Not employed, and not looking for work   \n",
       "\n",
       "    FormalEducation MajorUndergrad  ... WantWorkDatabase HaveWorkedPlatform  \\\n",
       "0  Secondary school            NaN  ...              NaN                iOS   \n",
       "\n",
       "  WantWorkPlatform          IDE  AuditoryEnvironment Gender  \\\n",
       "0              iOS  Atom; Xcode   Turn on some music   Male   \n",
       "\n",
       "  HighestEducationParents Salary ExpectedSalary Assess_Scoring  \n",
       "0             High school    NaN            NaN           31.5  \n",
       "\n",
       "[1 rows x 57 columns]"
      ]
     },
     "execution_count": 4,
     "metadata": {},
     "output_type": "execute_result"
    }
   ],
   "source": [
    "dataT.head(1)"
   ]
  },
  {
   "cell_type": "markdown",
   "metadata": {},
   "source": [
    "#  [IDE] Segregation, Cleaning and Analysis"
   ]
  },
  {
   "cell_type": "code",
   "execution_count": 5,
   "metadata": {},
   "outputs": [],
   "source": [
    "A = {}\n",
    "J = list()\n",
    "for i in dataT['IDE']:\n",
    "    x = i\n",
    "    x = str(x)\n",
    "    L = x.split(';')\n",
    "    \n",
    "    for k in L:\n",
    "        J.append(k.strip())\n",
    "    for v in J:\n",
    "        if v not in A:\n",
    "            A[v]=1\n",
    "        else:\n",
    "            A[v]=A[v]+1;\n",
    "    J.clear()"
   ]
  },
  {
   "cell_type": "code",
   "execution_count": 6,
   "metadata": {},
   "outputs": [
    {
     "data": {
      "text/plain": [
       "{'Atom': 6540,\n",
       " 'Xcode': 3850,\n",
       " 'Notepad++': 12681,\n",
       " 'Vim': 9679,\n",
       " 'PyCharm': 3268,\n",
       " 'RubyMine': 613,\n",
       " 'Visual Studio': 13677,\n",
       " 'Visual Studio Code': 6826,\n",
       " 'Sublime Text': 9978,\n",
       " 'IntelliJ': 7418,\n",
       " 'TextMate': 439,\n",
       " 'IPython / Jupyter': 1914,\n",
       " 'NetBeans': 2909,\n",
       " 'Emacs': 1956,\n",
       " 'Coda': 227,\n",
       " 'PHPStorm': 2965,\n",
       " 'Android Studio': 5953,\n",
       " 'RStudio': 996,\n",
       " 'Komodo': 254,\n",
       " 'Eclipse': 7899,\n",
       " 'Light Table': 70,\n",
       " 'Zend': 156}"
      ]
     },
     "execution_count": 6,
     "metadata": {},
     "output_type": "execute_result"
    }
   ],
   "source": [
    "A"
   ]
  },
  {
   "cell_type": "code",
   "execution_count": 7,
   "metadata": {},
   "outputs": [],
   "source": [
    "D1=pd.Series(A,name='IDE Users')"
   ]
  },
  {
   "cell_type": "code",
   "execution_count": 8,
   "metadata": {
    "scrolled": true
   },
   "outputs": [],
   "source": [
    "D1 =D1.to_frame()"
   ]
  },
  {
   "cell_type": "code",
   "execution_count": 9,
   "metadata": {},
   "outputs": [],
   "source": [
    "D1=D1.reset_index(level=0)"
   ]
  },
  {
   "cell_type": "code",
   "execution_count": 10,
   "metadata": {},
   "outputs": [],
   "source": [
    "D1.columns=['IDE','Users']"
   ]
  },
  {
   "cell_type": "code",
   "execution_count": 11,
   "metadata": {},
   "outputs": [],
   "source": [
    "D1 = D1.sort_values(by='Users',ascending=False)"
   ]
  },
  {
   "cell_type": "code",
   "execution_count": 12,
   "metadata": {},
   "outputs": [
    {
     "data": {
      "text/plain": [
       "(array([ 0,  1,  2,  3,  4,  5,  6,  7,  8,  9, 10, 11, 12, 13, 14, 15, 16,\n",
       "        17, 18, 19, 20, 21]),\n",
       " [Text(0, 0, 'Visual Studio'),\n",
       "  Text(1, 0, 'Notepad++'),\n",
       "  Text(2, 0, 'Sublime Text'),\n",
       "  Text(3, 0, 'Vim'),\n",
       "  Text(4, 0, 'Eclipse'),\n",
       "  Text(5, 0, 'IntelliJ'),\n",
       "  Text(6, 0, 'Visual Studio Code'),\n",
       "  Text(7, 0, 'Atom'),\n",
       "  Text(8, 0, 'Android Studio'),\n",
       "  Text(9, 0, 'Xcode'),\n",
       "  Text(10, 0, 'PyCharm'),\n",
       "  Text(11, 0, 'PHPStorm'),\n",
       "  Text(12, 0, 'NetBeans'),\n",
       "  Text(13, 0, 'Emacs'),\n",
       "  Text(14, 0, 'IPython / Jupyter'),\n",
       "  Text(15, 0, 'RStudio'),\n",
       "  Text(16, 0, 'RubyMine'),\n",
       "  Text(17, 0, 'TextMate'),\n",
       "  Text(18, 0, 'Komodo'),\n",
       "  Text(19, 0, 'Coda'),\n",
       "  Text(20, 0, 'Zend'),\n",
       "  Text(21, 0, 'Light Table')])"
      ]
     },
     "execution_count": 12,
     "metadata": {},
     "output_type": "execute_result"
    },
    {
     "data": {
      "image/png": "[encoded data removed]",
      "text/plain": [
       "<Figure size 842.4x595.44 with 1 Axes>"
      ]
     },
     "metadata": {
      "needs_background": "light"
     },
     "output_type": "display_data"
    }
   ],
   "source": [
    "fig, ax = plt.subplots()\n",
    "fig.set_size_inches(11.7, 8.27)\n",
    "s.barplot(data=D1,x='IDE',y='Users',order=D1['IDE'],palette='GnBu_r')\n",
    "plt.xticks(rotation=90)"
   ]
  },
  {
   "cell_type": "markdown",
   "metadata": {},
   "source": [
    "Thus, we see that Visual Studio, Notepad++ and Sublime Text are amongst the top IDE tools preferred by the developers."
   ]
  },
  {
   "cell_type": "markdown",
   "metadata": {},
   "source": [
    "# [HaveWorkedLanguage] Segregation, Cleaning and Analysis"
   ]
  },
  {
   "cell_type": "code",
   "execution_count": 13,
   "metadata": {},
   "outputs": [],
   "source": [
    "A = {}\n",
    "J = list()\n",
    "for i in dataT['HaveWorkedLanguage']:\n",
    "    x = i\n",
    "    x = str(x)\n",
    "    L = x.split(';')\n",
    "    \n",
    "    for k in L:\n",
    "        J.append(k.strip())\n",
    "    for v in J:\n",
    "        if v not in A:\n",
    "            A[v]=1\n",
    "        else:\n",
    "            A[v]=A[v]+1;\n",
    "    J.clear()"
   ]
  },
  {
   "cell_type": "code",
   "execution_count": 14,
   "metadata": {},
   "outputs": [
    {
     "data": {
      "text/plain": [
       "{'Swift': 2335,\n",
       " 'JavaScript': 22297,\n",
       " 'Python': 11344,\n",
       " 'Ruby': 3243,\n",
       " 'SQL': 18269,\n",
       " 'Java': 14211,\n",
       " 'PHP': 9993,\n",
       " 'Matlab': 1511,\n",
       " 'R': 1573,\n",
       " 'Rust': 404,\n",
       " 'CoffeeScript': 1169,\n",
       " 'Clojure': 380,\n",
       " 'Elixir': 368,\n",
       " 'Erlang': 272,\n",
       " 'Haskell': 624,\n",
       " 'C#': 12215,\n",
       " 'Objective-C': 2317,\n",
       " 'Assembly': 1743,\n",
       " 'C': 6717,\n",
       " 'C++': 7839,\n",
       " 'VB.NET': 2197,\n",
       " 'Perl': 1523,\n",
       " 'Scala': 1277,\n",
       " 'F#': 445,\n",
       " 'TypeScript': 3416,\n",
       " 'Lua': 1009,\n",
       " 'VBA': 1489,\n",
       " 'Groovy': 1173,\n",
       " 'Go': 1525,\n",
       " 'nan': 473,\n",
       " 'Smalltalk': 253,\n",
       " 'Visual Basic 6': 1004,\n",
       " 'Common Lisp': 263,\n",
       " 'Dart': 139,\n",
       " 'Julia': 129,\n",
       " 'Hack': 100}"
      ]
     },
     "execution_count": 14,
     "metadata": {},
     "output_type": "execute_result"
    }
   ],
   "source": [
    "A"
   ]
  },
  {
   "cell_type": "code",
   "execution_count": 15,
   "metadata": {},
   "outputs": [],
   "source": [
    "D2 = pd.Series(A, name = 'Languages Already Worked')"
   ]
  },
  {
   "cell_type": "code",
   "execution_count": 16,
   "metadata": {},
   "outputs": [],
   "source": [
    "D2 = D2.drop('nan')"
   ]
  },
  {
   "cell_type": "code",
   "execution_count": 17,
   "metadata": {},
   "outputs": [],
   "source": [
    "D2 = D2.to_frame()"
   ]
  },
  {
   "cell_type": "code",
   "execution_count": 18,
   "metadata": {},
   "outputs": [],
   "source": [
    "D2 = D2.reset_index(level=0)"
   ]
  },
  {
   "cell_type": "code",
   "execution_count": 19,
   "metadata": {},
   "outputs": [],
   "source": [
    "D2.columns=['Language','Users']"
   ]
  },
  {
   "cell_type": "code",
   "execution_count": 20,
   "metadata": {},
   "outputs": [],
   "source": [
    "D2 = D2.sort_values(by='Users',ascending=False)"
   ]
  },
  {
   "cell_type": "code",
   "execution_count": 21,
   "metadata": {},
   "outputs": [
    {
     "data": {
      "text/plain": [
       "(array([ 0,  1,  2,  3,  4,  5,  6,  7,  8,  9, 10, 11, 12, 13, 14, 15, 16,\n",
       "        17, 18, 19, 20, 21, 22, 23, 24, 25, 26, 27, 28, 29, 30, 31, 32, 33,\n",
       "        34]),\n",
       " [Text(0, 0, 'JavaScript'),\n",
       "  Text(1, 0, 'SQL'),\n",
       "  Text(2, 0, 'Java'),\n",
       "  Text(3, 0, 'C#'),\n",
       "  Text(4, 0, 'Python'),\n",
       "  Text(5, 0, 'PHP'),\n",
       "  Text(6, 0, 'C++'),\n",
       "  Text(7, 0, 'C'),\n",
       "  Text(8, 0, 'TypeScript'),\n",
       "  Text(9, 0, 'Ruby'),\n",
       "  Text(10, 0, 'Swift'),\n",
       "  Text(11, 0, 'Objective-C'),\n",
       "  Text(12, 0, 'VB.NET'),\n",
       "  Text(13, 0, 'Assembly'),\n",
       "  Text(14, 0, 'R'),\n",
       "  Text(15, 0, 'Go'),\n",
       "  Text(16, 0, 'Perl'),\n",
       "  Text(17, 0, 'Matlab'),\n",
       "  Text(18, 0, 'VBA'),\n",
       "  Text(19, 0, 'Scala'),\n",
       "  Text(20, 0, 'Groovy'),\n",
       "  Text(21, 0, 'CoffeeScript'),\n",
       "  Text(22, 0, 'Lua'),\n",
       "  Text(23, 0, 'Visual Basic 6'),\n",
       "  Text(24, 0, 'Haskell'),\n",
       "  Text(25, 0, 'F#'),\n",
       "  Text(26, 0, 'Rust'),\n",
       "  Text(27, 0, 'Clojure'),\n",
       "  Text(28, 0, 'Elixir'),\n",
       "  Text(29, 0, 'Erlang'),\n",
       "  Text(30, 0, 'Common Lisp'),\n",
       "  Text(31, 0, 'Smalltalk'),\n",
       "  Text(32, 0, 'Dart'),\n",
       "  Text(33, 0, 'Julia'),\n",
       "  Text(34, 0, 'Hack')])"
      ]
     },
     "execution_count": 21,
     "metadata": {},
     "output_type": "execute_result"
    },
    {
     "data": {
      "image/png": "[encoded data removed]",
      "text/plain": [
       "<Figure size 842.4x595.44 with 1 Axes>"
      ]
     },
     "metadata": {
      "needs_background": "light"
     },
     "output_type": "display_data"
    }
   ],
   "source": [
    "fig, ax = plt.subplots()\n",
    "fig.set_size_inches(11.7, 8.27)\n",
    "s.barplot(data=D2,x='Language',y='Users',palette='GnBu_r')\n",
    "plt.xticks(rotation=90)"
   ]
  },
  {
   "cell_type": "markdown",
   "metadata": {},
   "source": [
    "Thus we see Javascript is the most commonly used language amongst the developers"
   ]
  },
  {
   "cell_type": "markdown",
   "metadata": {},
   "source": [
    "# [WantWorkLanguage] Segregation,Cleaning and Analysis"
   ]
  },
  {
   "cell_type": "code",
   "execution_count": 22,
   "metadata": {},
   "outputs": [],
   "source": [
    "A = {}\n",
    "J = list()\n",
    "for i in dataT['WantWorkLanguage']:\n",
    "    x = i\n",
    "    x = str(x)\n",
    "    L = x.split(';')\n",
    "    \n",
    "    for k in L:\n",
    "        J.append(k.strip())\n",
    "    for v in J:\n",
    "        if v not in A:\n",
    "            A[v]=1\n",
    "        else:\n",
    "            A[v]=A[v]+1;\n",
    "    J.clear()"
   ]
  },
  {
   "cell_type": "code",
   "execution_count": 23,
   "metadata": {},
   "outputs": [
    {
     "data": {
      "text/plain": [
       "{'Swift': 4464,\n",
       " 'Java': 9750,\n",
       " 'Python': 12219,\n",
       " 'Ruby': 3871,\n",
       " 'SQL': 10936,\n",
       " 'C': 4679,\n",
       " 'Rust': 2670,\n",
       " 'Matlab': 883,\n",
       " 'R': 2551,\n",
       " 'Clojure': 1280,\n",
       " 'Elixir': 1542,\n",
       " 'Erlang': 1030,\n",
       " 'Haskell': 2259,\n",
       " 'TypeScript': 5622,\n",
       " 'JavaScript': 15929,\n",
       " 'Julia': 505,\n",
       " 'Scala': 3075,\n",
       " 'F#': 2009,\n",
       " 'Go': 5684,\n",
       " 'C#': 9974,\n",
       " 'Objective-C': 1803,\n",
       " 'Assembly': 1856,\n",
       " 'C++': 7369,\n",
       " 'VB.NET': 770,\n",
       " 'Perl': 1046,\n",
       " 'Hack': 322,\n",
       " 'PHP': 5194,\n",
       " 'Lua': 1084,\n",
       " 'Groovy': 844,\n",
       " 'nan': 3105,\n",
       " 'CoffeeScript': 1004,\n",
       " 'Common Lisp': 629,\n",
       " 'Dart': 487,\n",
       " 'Smalltalk': 349,\n",
       " 'VBA': 412,\n",
       " 'Visual Basic 6': 270}"
      ]
     },
     "execution_count": 23,
     "metadata": {},
     "output_type": "execute_result"
    }
   ],
   "source": [
    "A"
   ]
  },
  {
   "cell_type": "code",
   "execution_count": 24,
   "metadata": {},
   "outputs": [],
   "source": [
    "D3 = pd.Series(A,name ='Want to Work Language')"
   ]
  },
  {
   "cell_type": "code",
   "execution_count": 25,
   "metadata": {},
   "outputs": [],
   "source": [
    "D3 = D3.drop('nan')"
   ]
  },
  {
   "cell_type": "code",
   "execution_count": 26,
   "metadata": {},
   "outputs": [],
   "source": [
    "D3 = D3.to_frame()"
   ]
  },
  {
   "cell_type": "code",
   "execution_count": 27,
   "metadata": {},
   "outputs": [],
   "source": [
    "D3 = D3.reset_index(level=0)"
   ]
  },
  {
   "cell_type": "code",
   "execution_count": 28,
   "metadata": {},
   "outputs": [],
   "source": [
    "D3.columns=['Want Language','Users']"
   ]
  },
  {
   "cell_type": "code",
   "execution_count": 29,
   "metadata": {},
   "outputs": [],
   "source": [
    "D3= D3.sort_values(by='Users',ascending=False)"
   ]
  },
  {
   "cell_type": "code",
   "execution_count": 30,
   "metadata": {},
   "outputs": [
    {
     "data": {
      "text/plain": [
       "(array([ 0,  1,  2,  3,  4,  5,  6,  7,  8,  9, 10, 11, 12, 13, 14, 15, 16,\n",
       "        17, 18, 19, 20, 21, 22, 23, 24, 25, 26, 27, 28, 29, 30, 31, 32, 33,\n",
       "        34]),\n",
       " [Text(0, 0, 'JavaScript'),\n",
       "  Text(1, 0, 'Python'),\n",
       "  Text(2, 0, 'SQL'),\n",
       "  Text(3, 0, 'C#'),\n",
       "  Text(4, 0, 'Java'),\n",
       "  Text(5, 0, 'C++'),\n",
       "  Text(6, 0, 'Go'),\n",
       "  Text(7, 0, 'TypeScript'),\n",
       "  Text(8, 0, 'PHP'),\n",
       "  Text(9, 0, 'C'),\n",
       "  Text(10, 0, 'Swift'),\n",
       "  Text(11, 0, 'Ruby'),\n",
       "  Text(12, 0, 'Scala'),\n",
       "  Text(13, 0, 'Rust'),\n",
       "  Text(14, 0, 'R'),\n",
       "  Text(15, 0, 'Haskell'),\n",
       "  Text(16, 0, 'F#'),\n",
       "  Text(17, 0, 'Assembly'),\n",
       "  Text(18, 0, 'Objective-C'),\n",
       "  Text(19, 0, 'Elixir'),\n",
       "  Text(20, 0, 'Clojure'),\n",
       "  Text(21, 0, 'Lua'),\n",
       "  Text(22, 0, 'Perl'),\n",
       "  Text(23, 0, 'Erlang'),\n",
       "  Text(24, 0, 'CoffeeScript'),\n",
       "  Text(25, 0, 'Matlab'),\n",
       "  Text(26, 0, 'Groovy'),\n",
       "  Text(27, 0, 'VB.NET'),\n",
       "  Text(28, 0, 'Common Lisp'),\n",
       "  Text(29, 0, 'Julia'),\n",
       "  Text(30, 0, 'Dart'),\n",
       "  Text(31, 0, 'VBA'),\n",
       "  Text(32, 0, 'Smalltalk'),\n",
       "  Text(33, 0, 'Hack'),\n",
       "  Text(34, 0, 'Visual Basic 6')])"
      ]
     },
     "execution_count": 30,
     "metadata": {},
     "output_type": "execute_result"
    },
    {
     "data": {
      "image/png": "[encoded data removed]",
      "text/plain": [
       "<Figure size 842.4x595.44 with 1 Axes>"
      ]
     },
     "metadata": {
      "needs_background": "light"
     },
     "output_type": "display_data"
    }
   ],
   "source": [
    "fig, ax = plt.subplots()\n",
    "fig.set_size_inches(11.7, 8.27)\n",
    "s.barplot(data=D3,x='Want Language',y='Users',palette='GnBu_r')\n",
    "plt.xticks(rotation=90)"
   ]
  },
  {
   "cell_type": "markdown",
   "metadata": {},
   "source": [
    "Most of the developers aspire to learn Javascript"
   ]
  },
  {
   "cell_type": "markdown",
   "metadata": {},
   "source": [
    "# [WorkedDatabase] Segregation,Cleaning and Analysis"
   ]
  },
  {
   "cell_type": "code",
   "execution_count": 31,
   "metadata": {},
   "outputs": [],
   "source": [
    "A = {}\n",
    "J = list()\n",
    "for i in dataT['HaveWorkedDatabase']:\n",
    "    x = i\n",
    "    x = str(x)\n",
    "    L = x.split(';')\n",
    "    \n",
    "    for k in L:\n",
    "        J.append(k.strip())\n",
    "    for v in J:\n",
    "        if v not in A:\n",
    "            A[v]=1\n",
    "        else:\n",
    "            A[v]=A[v]+1;\n",
    "    J.clear()"
   ]
  },
  {
   "cell_type": "code",
   "execution_count": 32,
   "metadata": {},
   "outputs": [
    {
     "data": {
      "text/plain": [
       "{'nan': 7026,\n",
       " 'MySQL': 16001,\n",
       " 'SQLite': 7699,\n",
       " 'MongoDB': 6071,\n",
       " 'Redis': 4083,\n",
       " 'SQL Server': 11129,\n",
       " 'PostgreSQL': 7673,\n",
       " 'Oracle': 4758,\n",
       " 'Cassandra': 882}"
      ]
     },
     "execution_count": 32,
     "metadata": {},
     "output_type": "execute_result"
    }
   ],
   "source": [
    "A"
   ]
  },
  {
   "cell_type": "code",
   "execution_count": 33,
   "metadata": {},
   "outputs": [],
   "source": [
    "D4= pd.Series(A,name=\"Have Worked Database\")"
   ]
  },
  {
   "cell_type": "code",
   "execution_count": 34,
   "metadata": {},
   "outputs": [],
   "source": [
    "D4 = D4.drop('nan')"
   ]
  },
  {
   "cell_type": "code",
   "execution_count": 35,
   "metadata": {},
   "outputs": [],
   "source": [
    "D4 = D4.to_frame()"
   ]
  },
  {
   "cell_type": "code",
   "execution_count": 36,
   "metadata": {},
   "outputs": [],
   "source": [
    "D4 =D4.reset_index(level=0)"
   ]
  },
  {
   "cell_type": "code",
   "execution_count": 37,
   "metadata": {},
   "outputs": [],
   "source": [
    "D4.columns=['Database Worked','Users']"
   ]
  },
  {
   "cell_type": "code",
   "execution_count": 38,
   "metadata": {},
   "outputs": [
    {
     "data": {
      "text/plain": [
       "<AxesSubplot:xlabel='Database Worked', ylabel='Users'>"
      ]
     },
     "execution_count": 38,
     "metadata": {},
     "output_type": "execute_result"
    },
    {
     "data": {
      "image/png": "[encoded data removed]",
      "text/plain": [
       "<Figure size 842.4x595.44 with 1 Axes>"
      ]
     },
     "metadata": {
      "needs_background": "light"
     },
     "output_type": "display_data"
    }
   ],
   "source": [
    "D4 = D4.sort_values(by='Users',ascending=False)\n",
    "fig,ax = plt.subplots()\n",
    "fig.set_size_inches(11.7, 8.27)\n",
    "s.barplot(data=D4,x='Database Worked',y ='Users',palette='GnBu_r')"
   ]
  },
  {
   "cell_type": "markdown",
   "metadata": {},
   "source": [
    "This, we see SQL and SQL Server are amongst the most indemand Database Languages"
   ]
  },
  {
   "cell_type": "markdown",
   "metadata": {},
   "source": [
    "# [WantDatabase] Segregation,Cleaning,Analysis"
   ]
  },
  {
   "cell_type": "code",
   "execution_count": 39,
   "metadata": {},
   "outputs": [],
   "source": [
    "A = {}\n",
    "J = list()\n",
    "for i in dataT['WantWorkDatabase']:\n",
    "    x = i\n",
    "    x = str(x)\n",
    "    L = x.split(';')\n",
    "    \n",
    "    for k in L:\n",
    "        J.append(k.strip())\n",
    "    for v in J:\n",
    "        if v not in A:\n",
    "            A[v]=1\n",
    "        else:\n",
    "            A[v]=A[v]+1;\n",
    "    J.clear()"
   ]
  },
  {
   "cell_type": "code",
   "execution_count": 40,
   "metadata": {},
   "outputs": [],
   "source": [
    "D5 = pd.Series(A,name =\"Want Work Database\")"
   ]
  },
  {
   "cell_type": "code",
   "execution_count": 41,
   "metadata": {},
   "outputs": [],
   "source": [
    "D5 = D5.drop('nan')"
   ]
  },
  {
   "cell_type": "code",
   "execution_count": 42,
   "metadata": {},
   "outputs": [],
   "source": [
    "D5 = D5.to_frame()"
   ]
  },
  {
   "cell_type": "code",
   "execution_count": 43,
   "metadata": {},
   "outputs": [],
   "source": [
    "D5 =D5.reset_index(level=0)"
   ]
  },
  {
   "cell_type": "code",
   "execution_count": 44,
   "metadata": {},
   "outputs": [],
   "source": [
    "D5.columns=['Want Database', 'Users']"
   ]
  },
  {
   "cell_type": "code",
   "execution_count": 45,
   "metadata": {},
   "outputs": [],
   "source": [
    "D5 = D5.sort_values(by='Users',ascending=False)"
   ]
  },
  {
   "cell_type": "code",
   "execution_count": 46,
   "metadata": {},
   "outputs": [
    {
     "data": {
      "text/plain": [
       "<AxesSubplot:xlabel='Want Database', ylabel='Users'>"
      ]
     },
     "execution_count": 46,
     "metadata": {},
     "output_type": "execute_result"
    },
    {
     "data": {
      "image/png": "[encoded data removed]",
      "text/plain": [
       "<Figure size 842.4x595.44 with 1 Axes>"
      ]
     },
     "metadata": {
      "needs_background": "light"
     },
     "output_type": "display_data"
    }
   ],
   "source": [
    "fig,ax=plt.subplots()\n",
    "fig.set_size_inches(11.7, 8.27)\n",
    "s.barplot(data=D5,x='Want Database',y='Users',palette='GnBu_r')\n"
   ]
  },
  {
   "cell_type": "markdown",
   "metadata": {},
   "source": [
    "Hence, MongoDB iscoming up to become the most indemand database language that developers want to use"
   ]
  },
  {
   "cell_type": "code",
   "execution_count": 47,
   "metadata": {},
   "outputs": [],
   "source": [
    "A = {}\n",
    "J = list()\n",
    "for i in dataT['HaveWorkedPlatform']:\n",
    "    x = i\n",
    "    x = str(x)\n",
    "    L = x.split(';')\n",
    "    \n",
    "    for k in L:\n",
    "        J.append(k.strip())\n",
    "    for v in J:\n",
    "        if v not in A:\n",
    "            A[v]=1\n",
    "        else:\n",
    "            A[v]=A[v]+1;\n",
    "    J.clear()"
   ]
  },
  {
   "cell_type": "code",
   "execution_count": 48,
   "metadata": {},
   "outputs": [
    {
     "data": {
      "text/plain": [
       "{'iOS': 4717,\n",
       " 'Amazon Web Services (AWS)': 8085,\n",
       " 'nan': 7303,\n",
       " 'Windows Desktop': 11676,\n",
       " 'Linux Desktop': 9394,\n",
       " 'Mac OS': 5281,\n",
       " 'Android': 8093,\n",
       " 'Microsoft Azure': 3306,\n",
       " 'Windows Phone': 1110,\n",
       " 'Raspberry Pi': 4595,\n",
       " 'WordPress': 4451,\n",
       " 'Arduino': 2927,\n",
       " 'Serverless': 604,\n",
       " 'SharePoint': 1064,\n",
       " 'Mainframe': 392,\n",
       " 'Salesforce': 747}"
      ]
     },
     "execution_count": 48,
     "metadata": {},
     "output_type": "execute_result"
    }
   ],
   "source": [
    "A"
   ]
  },
  {
   "cell_type": "code",
   "execution_count": 49,
   "metadata": {},
   "outputs": [],
   "source": [
    "D6 = pd.Series(A,name ='Have Worked Platform')"
   ]
  },
  {
   "cell_type": "code",
   "execution_count": 50,
   "metadata": {},
   "outputs": [],
   "source": [
    "D6=D6.drop('nan')"
   ]
  },
  {
   "cell_type": "code",
   "execution_count": 51,
   "metadata": {},
   "outputs": [
    {
     "data": {
      "text/plain": [
       "iOS                           4717\n",
       "Amazon Web Services (AWS)     8085\n",
       "Windows Desktop              11676\n",
       "Linux Desktop                 9394\n",
       "Mac OS                        5281\n",
       "Android                       8093\n",
       "Microsoft Azure               3306\n",
       "Windows Phone                 1110\n",
       "Raspberry Pi                  4595\n",
       "WordPress                     4451\n",
       "Arduino                       2927\n",
       "Serverless                     604\n",
       "SharePoint                    1064\n",
       "Mainframe                      392\n",
       "Salesforce                     747\n",
       "Name: Have Worked Platform, dtype: int64"
      ]
     },
     "execution_count": 51,
     "metadata": {},
     "output_type": "execute_result"
    }
   ],
   "source": [
    "D6"
   ]
  },
  {
   "cell_type": "code",
   "execution_count": 52,
   "metadata": {},
   "outputs": [],
   "source": [
    "D6= D6.to_frame()"
   ]
  },
  {
   "cell_type": "code",
   "execution_count": 53,
   "metadata": {},
   "outputs": [
    {
     "data": {
      "text/html": [
       "<div>\n",
       "<style scoped>\n",
       "    .dataframe tbody tr th:only-of-type {\n",
       "        vertical-align: middle;\n",
       "    }\n",
       "\n",
       "    .dataframe tbody tr th {\n",
       "        vertical-align: top;\n",
       "    }\n",
       "\n",
       "    .dataframe thead th {\n",
       "        text-align: right;\n",
       "    }\n",
       "</style>\n",
       "<table border=\"1\" class=\"dataframe\">\n",
       "  <thead>\n",
       "    <tr style=\"text-align: right;\">\n",
       "      <th></th>\n",
       "      <th>index</th>\n",
       "      <th>Have Worked Platform</th>\n",
       "    </tr>\n",
       "  </thead>\n",
       "  <tbody>\n",
       "    <tr>\n",
       "      <th>0</th>\n",
       "      <td>iOS</td>\n",
       "      <td>4717</td>\n",
       "    </tr>\n",
       "    <tr>\n",
       "      <th>1</th>\n",
       "      <td>Amazon Web Services (AWS)</td>\n",
       "      <td>8085</td>\n",
       "    </tr>\n",
       "    <tr>\n",
       "      <th>2</th>\n",
       "      <td>Windows Desktop</td>\n",
       "      <td>11676</td>\n",
       "    </tr>\n",
       "    <tr>\n",
       "      <th>3</th>\n",
       "      <td>Linux Desktop</td>\n",
       "      <td>9394</td>\n",
       "    </tr>\n",
       "    <tr>\n",
       "      <th>4</th>\n",
       "      <td>Mac OS</td>\n",
       "      <td>5281</td>\n",
       "    </tr>\n",
       "    <tr>\n",
       "      <th>5</th>\n",
       "      <td>Android</td>\n",
       "      <td>8093</td>\n",
       "    </tr>\n",
       "    <tr>\n",
       "      <th>6</th>\n",
       "      <td>Microsoft Azure</td>\n",
       "      <td>3306</td>\n",
       "    </tr>\n",
       "    <tr>\n",
       "      <th>7</th>\n",
       "      <td>Windows Phone</td>\n",
       "      <td>1110</td>\n",
       "    </tr>\n",
       "    <tr>\n",
       "      <th>8</th>\n",
       "      <td>Raspberry Pi</td>\n",
       "      <td>4595</td>\n",
       "    </tr>\n",
       "    <tr>\n",
       "      <th>9</th>\n",
       "      <td>WordPress</td>\n",
       "      <td>4451</td>\n",
       "    </tr>\n",
       "    <tr>\n",
       "      <th>10</th>\n",
       "      <td>Arduino</td>\n",
       "      <td>2927</td>\n",
       "    </tr>\n",
       "    <tr>\n",
       "      <th>11</th>\n",
       "      <td>Serverless</td>\n",
       "      <td>604</td>\n",
       "    </tr>\n",
       "    <tr>\n",
       "      <th>12</th>\n",
       "      <td>SharePoint</td>\n",
       "      <td>1064</td>\n",
       "    </tr>\n",
       "    <tr>\n",
       "      <th>13</th>\n",
       "      <td>Mainframe</td>\n",
       "      <td>392</td>\n",
       "    </tr>\n",
       "    <tr>\n",
       "      <th>14</th>\n",
       "      <td>Salesforce</td>\n",
       "      <td>747</td>\n",
       "    </tr>\n",
       "  </tbody>\n",
       "</table>\n",
       "</div>"
      ],
      "text/plain": [
       "                        index  Have Worked Platform\n",
       "0                         iOS                  4717\n",
       "1   Amazon Web Services (AWS)                  8085\n",
       "2             Windows Desktop                 11676\n",
       "3               Linux Desktop                  9394\n",
       "4                      Mac OS                  5281\n",
       "5                     Android                  8093\n",
       "6             Microsoft Azure                  3306\n",
       "7               Windows Phone                  1110\n",
       "8                Raspberry Pi                  4595\n",
       "9                   WordPress                  4451\n",
       "10                    Arduino                  2927\n",
       "11                 Serverless                   604\n",
       "12                 SharePoint                  1064\n",
       "13                  Mainframe                   392\n",
       "14                 Salesforce                   747"
      ]
     },
     "execution_count": 53,
     "metadata": {},
     "output_type": "execute_result"
    }
   ],
   "source": [
    "D6=D6.reset_index(level=0)\n",
    "D6"
   ]
  },
  {
   "cell_type": "code",
   "execution_count": 54,
   "metadata": {},
   "outputs": [],
   "source": [
    "D6.columns=['Platform Worked','Users']"
   ]
  },
  {
   "cell_type": "code",
   "execution_count": 55,
   "metadata": {},
   "outputs": [],
   "source": [
    "D6=D6.sort_values(by='Users',ascending=False)"
   ]
  },
  {
   "cell_type": "code",
   "execution_count": 56,
   "metadata": {},
   "outputs": [
    {
     "data": {
      "text/plain": [
       "(array([ 0,  1,  2,  3,  4,  5,  6,  7,  8,  9, 10, 11, 12, 13, 14]),\n",
       " [Text(0, 0, 'Windows Desktop'),\n",
       "  Text(1, 0, 'Linux Desktop'),\n",
       "  Text(2, 0, 'Android'),\n",
       "  Text(3, 0, 'Amazon Web Services (AWS)'),\n",
       "  Text(4, 0, 'Mac OS'),\n",
       "  Text(5, 0, 'iOS'),\n",
       "  Text(6, 0, 'Raspberry Pi'),\n",
       "  Text(7, 0, 'WordPress'),\n",
       "  Text(8, 0, 'Microsoft Azure'),\n",
       "  Text(9, 0, 'Arduino'),\n",
       "  Text(10, 0, 'Windows Phone'),\n",
       "  Text(11, 0, 'SharePoint'),\n",
       "  Text(12, 0, 'Salesforce'),\n",
       "  Text(13, 0, 'Serverless'),\n",
       "  Text(14, 0, 'Mainframe')])"
      ]
     },
     "execution_count": 56,
     "metadata": {},
     "output_type": "execute_result"
    },
    {
     "data": {
      "image/png": "[encoded data removed]",
      "text/plain": [
       "<Figure size 849.6x595.44 with 1 Axes>"
      ]
     },
     "metadata": {
      "needs_background": "light"
     },
     "output_type": "display_data"
    }
   ],
   "source": [
    "fig,ax = plt.subplots()\n",
    "fig.set_size_inches(11.8,8.27)\n",
    "s.barplot(data=D6,x='Platform Worked',y='Users',palette='GnBu_r')\n",
    "plt.xticks(rotation=90)"
   ]
  },
  {
   "cell_type": "markdown",
   "metadata": {},
   "source": [
    "hence, Windows Desktop is the most popular Platform to work for Mobile Developers."
   ]
  },
  {
   "cell_type": "markdown",
   "metadata": {},
   "source": [
    "# [WantWorkPlatform] Segregation,Cleaning and Analysis"
   ]
  },
  {
   "cell_type": "code",
   "execution_count": 57,
   "metadata": {},
   "outputs": [],
   "source": [
    "A = {}\n",
    "J = list()\n",
    "for i in dataT['WantWorkPlatform']:\n",
    "    x = i\n",
    "    x = str(x)\n",
    "    L = x.split(';')\n",
    "    \n",
    "    for k in L:\n",
    "        J.append(k.strip())\n",
    "    for v in J:\n",
    "        if v not in A:\n",
    "            A[v]=1\n",
    "        else:\n",
    "            A[v]=A[v]+1;\n",
    "    J.clear()"
   ]
  },
  {
   "cell_type": "code",
   "execution_count": 58,
   "metadata": {},
   "outputs": [
    {
     "data": {
      "text/plain": [
       "{'iOS': 7139,\n",
       " 'Linux Desktop': 9134,\n",
       " 'Raspberry Pi': 7911,\n",
       " 'Amazon Web Services (AWS)': 10593,\n",
       " 'nan': 8474,\n",
       " 'Windows Desktop': 7497,\n",
       " 'Mac OS': 5342,\n",
       " 'Arduino': 4554,\n",
       " 'Serverless': 1843,\n",
       " 'Microsoft Azure': 4427,\n",
       " 'Android': 10855,\n",
       " 'Windows Phone': 1380,\n",
       " 'WordPress': 2290,\n",
       " 'Salesforce': 617,\n",
       " 'Mainframe': 396,\n",
       " 'SharePoint': 649}"
      ]
     },
     "execution_count": 58,
     "metadata": {},
     "output_type": "execute_result"
    }
   ],
   "source": [
    "A"
   ]
  },
  {
   "cell_type": "code",
   "execution_count": 59,
   "metadata": {},
   "outputs": [],
   "source": [
    "D7 = pd.Series(A,name='Want Work Platform')"
   ]
  },
  {
   "cell_type": "code",
   "execution_count": 60,
   "metadata": {},
   "outputs": [],
   "source": [
    "D7 = D7.drop('nan')"
   ]
  },
  {
   "cell_type": "code",
   "execution_count": 61,
   "metadata": {},
   "outputs": [],
   "source": [
    "D7 = D7.to_frame()"
   ]
  },
  {
   "cell_type": "code",
   "execution_count": 62,
   "metadata": {
    "scrolled": true
   },
   "outputs": [
    {
     "data": {
      "text/html": [
       "<div>\n",
       "<style scoped>\n",
       "    .dataframe tbody tr th:only-of-type {\n",
       "        vertical-align: middle;\n",
       "    }\n",
       "\n",
       "    .dataframe tbody tr th {\n",
       "        vertical-align: top;\n",
       "    }\n",
       "\n",
       "    .dataframe thead th {\n",
       "        text-align: right;\n",
       "    }\n",
       "</style>\n",
       "<table border=\"1\" class=\"dataframe\">\n",
       "  <thead>\n",
       "    <tr style=\"text-align: right;\">\n",
       "      <th></th>\n",
       "      <th>Want Platform</th>\n",
       "      <th>Users</th>\n",
       "    </tr>\n",
       "  </thead>\n",
       "  <tbody>\n",
       "    <tr>\n",
       "      <th>0</th>\n",
       "      <td>iOS</td>\n",
       "      <td>7139</td>\n",
       "    </tr>\n",
       "    <tr>\n",
       "      <th>1</th>\n",
       "      <td>Linux Desktop</td>\n",
       "      <td>9134</td>\n",
       "    </tr>\n",
       "    <tr>\n",
       "      <th>2</th>\n",
       "      <td>Raspberry Pi</td>\n",
       "      <td>7911</td>\n",
       "    </tr>\n",
       "    <tr>\n",
       "      <th>3</th>\n",
       "      <td>Amazon Web Services (AWS)</td>\n",
       "      <td>10593</td>\n",
       "    </tr>\n",
       "    <tr>\n",
       "      <th>4</th>\n",
       "      <td>Windows Desktop</td>\n",
       "      <td>7497</td>\n",
       "    </tr>\n",
       "    <tr>\n",
       "      <th>5</th>\n",
       "      <td>Mac OS</td>\n",
       "      <td>5342</td>\n",
       "    </tr>\n",
       "    <tr>\n",
       "      <th>6</th>\n",
       "      <td>Arduino</td>\n",
       "      <td>4554</td>\n",
       "    </tr>\n",
       "    <tr>\n",
       "      <th>7</th>\n",
       "      <td>Serverless</td>\n",
       "      <td>1843</td>\n",
       "    </tr>\n",
       "    <tr>\n",
       "      <th>8</th>\n",
       "      <td>Microsoft Azure</td>\n",
       "      <td>4427</td>\n",
       "    </tr>\n",
       "    <tr>\n",
       "      <th>9</th>\n",
       "      <td>Android</td>\n",
       "      <td>10855</td>\n",
       "    </tr>\n",
       "    <tr>\n",
       "      <th>10</th>\n",
       "      <td>Windows Phone</td>\n",
       "      <td>1380</td>\n",
       "    </tr>\n",
       "    <tr>\n",
       "      <th>11</th>\n",
       "      <td>WordPress</td>\n",
       "      <td>2290</td>\n",
       "    </tr>\n",
       "    <tr>\n",
       "      <th>12</th>\n",
       "      <td>Salesforce</td>\n",
       "      <td>617</td>\n",
       "    </tr>\n",
       "    <tr>\n",
       "      <th>13</th>\n",
       "      <td>Mainframe</td>\n",
       "      <td>396</td>\n",
       "    </tr>\n",
       "    <tr>\n",
       "      <th>14</th>\n",
       "      <td>SharePoint</td>\n",
       "      <td>649</td>\n",
       "    </tr>\n",
       "  </tbody>\n",
       "</table>\n",
       "</div>"
      ],
      "text/plain": [
       "                Want Platform  Users\n",
       "0                         iOS   7139\n",
       "1               Linux Desktop   9134\n",
       "2                Raspberry Pi   7911\n",
       "3   Amazon Web Services (AWS)  10593\n",
       "4             Windows Desktop   7497\n",
       "5                      Mac OS   5342\n",
       "6                     Arduino   4554\n",
       "7                  Serverless   1843\n",
       "8             Microsoft Azure   4427\n",
       "9                     Android  10855\n",
       "10              Windows Phone   1380\n",
       "11                  WordPress   2290\n",
       "12                 Salesforce    617\n",
       "13                  Mainframe    396\n",
       "14                 SharePoint    649"
      ]
     },
     "execution_count": 62,
     "metadata": {},
     "output_type": "execute_result"
    }
   ],
   "source": [
    "D7 =D7.reset_index(level=0)\n",
    "D7.columns=['Want Platform','Users']\n",
    "D7"
   ]
  },
  {
   "cell_type": "code",
   "execution_count": 63,
   "metadata": {},
   "outputs": [],
   "source": [
    "D7=D7.sort_values(by='Users',ascending=False)"
   ]
  },
  {
   "cell_type": "code",
   "execution_count": 64,
   "metadata": {},
   "outputs": [
    {
     "data": {
      "text/plain": [
       "(array([ 0,  1,  2,  3,  4,  5,  6,  7,  8,  9, 10, 11, 12, 13, 14]),\n",
       " [Text(0, 0, 'Android'),\n",
       "  Text(1, 0, 'Amazon Web Services (AWS)'),\n",
       "  Text(2, 0, 'Linux Desktop'),\n",
       "  Text(3, 0, 'Raspberry Pi'),\n",
       "  Text(4, 0, 'Windows Desktop'),\n",
       "  Text(5, 0, 'iOS'),\n",
       "  Text(6, 0, 'Mac OS'),\n",
       "  Text(7, 0, 'Arduino'),\n",
       "  Text(8, 0, 'Microsoft Azure'),\n",
       "  Text(9, 0, 'WordPress'),\n",
       "  Text(10, 0, 'Serverless'),\n",
       "  Text(11, 0, 'Windows Phone'),\n",
       "  Text(12, 0, 'SharePoint'),\n",
       "  Text(13, 0, 'Salesforce'),\n",
       "  Text(14, 0, 'Mainframe')])"
      ]
     },
     "execution_count": 64,
     "metadata": {},
     "output_type": "execute_result"
    },
    {
     "data": {
      "image/png": "[encoded data removed]",
      "text/plain": [
       "<Figure size 849.6x595.44 with 1 Axes>"
      ]
     },
     "metadata": {
      "needs_background": "light"
     },
     "output_type": "display_data"
    }
   ],
   "source": [
    "fig,ax = plt.subplots()\n",
    "fig.set_size_inches(11.8,8.27)\n",
    "s.barplot(data=D7,x='Want Platform',y='Users',palette='GnBu_r')\n",
    "plt.xticks(rotation=90)"
   ]
  },
  {
   "cell_type": "markdown",
   "metadata": {},
   "source": [
    "Hence, we see that Android, AWS, Linux Desktop are amongst the top platforms that users want to learn"
   ]
  },
  {
   "cell_type": "code",
   "execution_count": null,
   "metadata": {},
   "outputs": [],
   "source": []
  }
 ],
 "metadata": {
  "kernelspec": {
   "display_name": "Python 3",
   "language": "python",
   "name": "python3"
  },
  "language_info": {
   "codemirror_mode": {
    "name": "ipython",
    "version": 3
   },
   "file_extension": ".py",
   "mimetype": "text/x-python",
   "name": "python",
   "nbconvert_exporter": "python",
   "pygments_lexer": "ipython3",
   "version": "3.7.4"
  }
 },
 "nbformat": 4,
 "nbformat_minor": 4
}
