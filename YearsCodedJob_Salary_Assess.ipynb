{
 "cells": [
  {
   "cell_type": "code",
   "execution_count": 1,
   "metadata": {},
   "outputs": [],
   "source": [
    "import pandas as pd\n",
    "import numpy as np\n",
    "import seaborn as sns\n",
    "import matplotlib.pyplot as plt"
   ]
  },
  {
   "cell_type": "code",
   "execution_count": 2,
   "metadata": {},
   "outputs": [
    {
     "name": "stdout",
     "output_type": "stream",
     "text": [
      "<class 'pandas.core.frame.DataFrame'>\n",
      "Int64Index: 51392 entries, 1 to 51392\n",
      "Data columns (total 53 columns):\n",
      " #   Column                   Non-Null Count  Dtype  \n",
      "---  ------                   --------------  -----  \n",
      " 0   Professional             51392 non-null  object \n",
      " 1   ProgramHobby             51392 non-null  object \n",
      " 2   Country                  51392 non-null  object \n",
      " 3   University               51392 non-null  object \n",
      " 4   EmploymentStatus         51392 non-null  object \n",
      " 5   FormalEducation          51392 non-null  object \n",
      " 6   MajorUndergrad           42841 non-null  object \n",
      " 7   YearsCodedJob            40891 non-null  object \n",
      " 8   DeveloperType            36125 non-null  object \n",
      " 9   NonDeveloperType         4891 non-null   object \n",
      " 10  CareerSatisfaction       42695 non-null  float64\n",
      " 11  JobSatisfaction          40376 non-null  float64\n",
      " 12  ProblemSolving           31293 non-null  object \n",
      " 13  LearningNewTech          31304 non-null  object \n",
      " 14  JobSecurity              31240 non-null  object \n",
      " 15  DiversityImportant       30903 non-null  object \n",
      " 16  SeriousWork              31014 non-null  object \n",
      " 17  WorkPayCare              30965 non-null  object \n",
      " 18  ChallengeMyself          30971 non-null  object \n",
      " 19  LastNewJob               32710 non-null  object \n",
      " 20  AssessJobIndustry        22130 non-null  object \n",
      " 21  AssessJobRole            22147 non-null  object \n",
      " 22  AssessJobExp             22136 non-null  object \n",
      " 23  AssessJobDept            22123 non-null  object \n",
      " 24  AssessJobTech            22189 non-null  object \n",
      " 25  AssessJobProjects        22183 non-null  object \n",
      " 26  AssessJobCompensation    22146 non-null  object \n",
      " 27  AssessJobOffice          22004 non-null  object \n",
      " 28  AssessJobCommute         21973 non-null  object \n",
      " 29  AssessJobRemote          22020 non-null  object \n",
      " 30  AssessJobProfDevel       21998 non-null  object \n",
      " 31  AssessJobDiversity       21978 non-null  object \n",
      " 32  AssessJobProduct         21997 non-null  object \n",
      " 33  AssessJobFinances        22023 non-null  object \n",
      " 34  ImportantBenefits        30235 non-null  object \n",
      " 35  JobProfile               24719 non-null  object \n",
      " 36  LearnedHiring            23737 non-null  object \n",
      " 37  Overpaid                 13387 non-null  object \n",
      " 38  EducationImportant       23355 non-null  object \n",
      " 39  EducationTypes           30354 non-null  object \n",
      " 40  WorkStart                36696 non-null  object \n",
      " 41  HaveWorkedLanguage       36625 non-null  object \n",
      " 42  WantWorkLanguage         33771 non-null  object \n",
      " 43  HaveWorkedDatabase       29452 non-null  object \n",
      " 44  WantWorkDatabase         25109 non-null  object \n",
      " 45  HaveWorkedPlatform       29114 non-null  object \n",
      " 46  WantWorkPlatform         27884 non-null  object \n",
      " 47  IDE                      35830 non-null  object \n",
      " 48  AuditoryEnvironment      36457 non-null  object \n",
      " 49  Gender                   35047 non-null  object \n",
      " 50  HighestEducationParents  34938 non-null  object \n",
      " 51  Salary                   12891 non-null  float64\n",
      " 52  ExpectedSalary           2566 non-null   float64\n",
      "dtypes: float64(4), object(49)\n",
      "memory usage: 21.2+ MB\n"
     ]
    }
   ],
   "source": [
    "df = pd.read_csv(\"Analysis_file.csv\",low_memory = False, index_col='Respondent')\n",
    "df.info()"
   ]
  },
  {
   "cell_type": "code",
   "execution_count": 3,
   "metadata": {},
   "outputs": [
    {
     "data": {
      "text/html": [
       "<div>\n",
       "<style scoped>\n",
       "    .dataframe tbody tr th:only-of-type {\n",
       "        vertical-align: middle;\n",
       "    }\n",
       "\n",
       "    .dataframe tbody tr th {\n",
       "        vertical-align: top;\n",
       "    }\n",
       "\n",
       "    .dataframe thead th {\n",
       "        text-align: right;\n",
       "    }\n",
       "</style>\n",
       "<table border=\"1\" class=\"dataframe\">\n",
       "  <thead>\n",
       "    <tr style=\"text-align: right;\">\n",
       "      <th></th>\n",
       "      <th>Professional</th>\n",
       "      <th>ProgramHobby</th>\n",
       "      <th>Country</th>\n",
       "      <th>University</th>\n",
       "      <th>EmploymentStatus</th>\n",
       "      <th>FormalEducation</th>\n",
       "      <th>MajorUndergrad</th>\n",
       "      <th>YearsCodedJob</th>\n",
       "      <th>DeveloperType</th>\n",
       "      <th>NonDeveloperType</th>\n",
       "      <th>...</th>\n",
       "      <th>HaveWorkedDatabase</th>\n",
       "      <th>WantWorkDatabase</th>\n",
       "      <th>HaveWorkedPlatform</th>\n",
       "      <th>WantWorkPlatform</th>\n",
       "      <th>IDE</th>\n",
       "      <th>AuditoryEnvironment</th>\n",
       "      <th>Gender</th>\n",
       "      <th>HighestEducationParents</th>\n",
       "      <th>Salary</th>\n",
       "      <th>ExpectedSalary</th>\n",
       "    </tr>\n",
       "    <tr>\n",
       "      <th>Respondent</th>\n",
       "      <th></th>\n",
       "      <th></th>\n",
       "      <th></th>\n",
       "      <th></th>\n",
       "      <th></th>\n",
       "      <th></th>\n",
       "      <th></th>\n",
       "      <th></th>\n",
       "      <th></th>\n",
       "      <th></th>\n",
       "      <th></th>\n",
       "      <th></th>\n",
       "      <th></th>\n",
       "      <th></th>\n",
       "      <th></th>\n",
       "      <th></th>\n",
       "      <th></th>\n",
       "      <th></th>\n",
       "      <th></th>\n",
       "      <th></th>\n",
       "      <th></th>\n",
       "    </tr>\n",
       "  </thead>\n",
       "  <tbody>\n",
       "    <tr>\n",
       "      <th>1</th>\n",
       "      <td>Student</td>\n",
       "      <td>Yes, both</td>\n",
       "      <td>United States</td>\n",
       "      <td>No</td>\n",
       "      <td>Not employed, and not looking for work</td>\n",
       "      <td>Secondary school</td>\n",
       "      <td>NaN</td>\n",
       "      <td>NaN</td>\n",
       "      <td>NaN</td>\n",
       "      <td>.</td>\n",
       "      <td>...</td>\n",
       "      <td>NaN</td>\n",
       "      <td>NaN</td>\n",
       "      <td>iOS</td>\n",
       "      <td>iOS</td>\n",
       "      <td>Atom; Xcode</td>\n",
       "      <td>Turn on some music</td>\n",
       "      <td>Male</td>\n",
       "      <td>High school</td>\n",
       "      <td>NaN</td>\n",
       "      <td>NaN</td>\n",
       "    </tr>\n",
       "    <tr>\n",
       "      <th>2</th>\n",
       "      <td>Student</td>\n",
       "      <td>Yes, both</td>\n",
       "      <td>United Kingdom</td>\n",
       "      <td>Yes, full-time</td>\n",
       "      <td>Employed part-time</td>\n",
       "      <td>Some college/university study without earning ...</td>\n",
       "      <td>Computer science or software engineering</td>\n",
       "      <td>NaN</td>\n",
       "      <td>NaN</td>\n",
       "      <td>NaN</td>\n",
       "      <td>...</td>\n",
       "      <td>MySQL; SQLite</td>\n",
       "      <td>MySQL; SQLite</td>\n",
       "      <td>Amazon Web Services (AWS)</td>\n",
       "      <td>Linux Desktop; Raspberry Pi; Amazon Web Servic...</td>\n",
       "      <td>Atom; Notepad++; Vim; PyCharm; RubyMine; Visua...</td>\n",
       "      <td>Put on some ambient sounds (e.g. whale songs, ...</td>\n",
       "      <td>Male</td>\n",
       "      <td>A master's degree</td>\n",
       "      <td>NaN</td>\n",
       "      <td>37500.0</td>\n",
       "    </tr>\n",
       "  </tbody>\n",
       "</table>\n",
       "<p>2 rows × 53 columns</p>\n",
       "</div>"
      ],
      "text/plain": [
       "           Professional ProgramHobby         Country      University  \\\n",
       "Respondent                                                             \n",
       "1               Student    Yes, both   United States              No   \n",
       "2               Student    Yes, both  United Kingdom  Yes, full-time   \n",
       "\n",
       "                                  EmploymentStatus  \\\n",
       "Respondent                                           \n",
       "1           Not employed, and not looking for work   \n",
       "2                               Employed part-time   \n",
       "\n",
       "                                              FormalEducation  \\\n",
       "Respondent                                                      \n",
       "1                                            Secondary school   \n",
       "2           Some college/university study without earning ...   \n",
       "\n",
       "                                      MajorUndergrad YearsCodedJob  \\\n",
       "Respondent                                                           \n",
       "1                                                NaN           NaN   \n",
       "2           Computer science or software engineering           NaN   \n",
       "\n",
       "           DeveloperType NonDeveloperType  ...  HaveWorkedDatabase  \\\n",
       "Respondent                                 ...                       \n",
       "1                    NaN                .  ...                 NaN   \n",
       "2                    NaN              NaN  ...       MySQL; SQLite   \n",
       "\n",
       "            WantWorkDatabase         HaveWorkedPlatform  \\\n",
       "Respondent                                                \n",
       "1                        NaN                        iOS   \n",
       "2              MySQL; SQLite  Amazon Web Services (AWS)   \n",
       "\n",
       "                                             WantWorkPlatform  \\\n",
       "Respondent                                                      \n",
       "1                                                         iOS   \n",
       "2           Linux Desktop; Raspberry Pi; Amazon Web Servic...   \n",
       "\n",
       "                                                          IDE  \\\n",
       "Respondent                                                      \n",
       "1                                                 Atom; Xcode   \n",
       "2           Atom; Notepad++; Vim; PyCharm; RubyMine; Visua...   \n",
       "\n",
       "                                          AuditoryEnvironment Gender  \\\n",
       "Respondent                                                             \n",
       "1                                          Turn on some music   Male   \n",
       "2           Put on some ambient sounds (e.g. whale songs, ...   Male   \n",
       "\n",
       "           HighestEducationParents Salary ExpectedSalary  \n",
       "Respondent                                                \n",
       "1                      High school    NaN            NaN  \n",
       "2                A master's degree    NaN        37500.0  \n",
       "\n",
       "[2 rows x 53 columns]"
      ]
     },
     "execution_count": 3,
     "metadata": {},
     "output_type": "execute_result"
    }
   ],
   "source": [
    "df.head(2)"
   ]
  },
  {
   "cell_type": "markdown",
   "metadata": {},
   "source": [
    "## Imputing 'YearsCodedJob' Column"
   ]
  },
  {
   "cell_type": "code",
   "execution_count": 4,
   "metadata": {},
   "outputs": [
    {
     "data": {
      "text/plain": [
       "array([nan, '20 or more years', '9 to 10 years', '10 to 11 years',\n",
       "       '8 to 9 years', '7 to 8 years', '11 to 12 years', '17 to 18 years',\n",
       "       '15 to 16 years', '1 to 2 years', '3 to 4 years', '12 to 13 years',\n",
       "       'Less than a year', '5 to 6 years', '16 to 17 years',\n",
       "       '13 to 14 years', '6 to 7 years', '2 to 3 years', '4 to 5 years',\n",
       "       '14 to 15 years', '18 to 19 years', '19 to 20 years'], dtype=object)"
      ]
     },
     "execution_count": 4,
     "metadata": {},
     "output_type": "execute_result"
    }
   ],
   "source": [
    "df['YearsCodedJob'].unique()"
   ]
  },
  {
   "cell_type": "code",
   "execution_count": 5,
   "metadata": {},
   "outputs": [],
   "source": [
    "def decrease_ycj_cat(x):\n",
    "    if(x == '1 to 2 years' or x == '2 to 3 years' or x == '3 to 4 years'or x== '4 to 5 years'):\n",
    "        return '1 to 5 years'\n",
    "    \n",
    "    elif(x == '5 to 6 years' or x == '6 to 7 years'or x== '7 to 8 years' or x == '8 to 9 years' or x== '9 to 10 years' ):\n",
    "        return '5 to 10 years'\n",
    "    \n",
    "    elif(x == '10 to 11 years' or x=='11 to 12 years' or x=='12 to 13 years' or x== '13 to 14 years'or x=='14 to 15 years' ):\n",
    "        return '10 to 15 years'\n",
    "    \n",
    "    elif(x=='15 to 16 years'or x== '16 to 17 years'or x=='17 to 18 years'or x== '18 to 19 years'or x=='19 to 20 years'):\n",
    "        return '15 to 20 years'\n",
    "    \n",
    "    else:\n",
    "        return x"
   ]
  },
  {
   "cell_type": "code",
   "execution_count": 6,
   "metadata": {},
   "outputs": [],
   "source": [
    "df[\"YearsCodedJob\"] = df[\"YearsCodedJob\"].apply(decrease_ycj_cat)"
   ]
  },
  {
   "cell_type": "code",
   "execution_count": 7,
   "metadata": {},
   "outputs": [
    {
     "name": "stderr",
     "output_type": "stream",
     "text": [
      "c:\\users\\hp\\appdata\\local\\programs\\python\\python37\\lib\\site-packages\\seaborn\\_decorators.py:43: FutureWarning: Pass the following variable as a keyword arg: x. From version 0.12, the only valid positional argument will be `data`, and passing other arguments without an explicit keyword will result in an error or misinterpretation.\n",
      "  FutureWarning\n"
     ]
    },
    {
     "data": {
      "text/plain": [
       "<AxesSubplot:xlabel='YearsCodedJob', ylabel='count'>"
      ]
     },
     "execution_count": 7,
     "metadata": {},
     "output_type": "execute_result"
    },
    {
     "data": {
      "image/png": "[encoded data removed]",
      "text/plain": [
       "<Figure size 720x432 with 1 Axes>"
      ]
     },
     "metadata": {
      "needs_background": "light"
     },
     "output_type": "display_data"
    }
   ],
   "source": [
    "plt.figure(figsize =(10,6))\n",
    "sns.countplot(df[\"YearsCodedJob\"])"
   ]
  },
  {
   "cell_type": "markdown",
   "metadata": {},
   "source": [
    "## Imputing 'Salary' Column"
   ]
  },
  {
   "cell_type": "code",
   "execution_count": 8,
   "metadata": {},
   "outputs": [
    {
     "data": {
      "text/plain": [
       "12891"
      ]
     },
     "execution_count": 8,
     "metadata": {},
     "output_type": "execute_result"
    }
   ],
   "source": [
    "df['Salary'].count()"
   ]
  },
  {
   "cell_type": "code",
   "execution_count": 9,
   "metadata": {},
   "outputs": [
    {
     "data": {
      "text/plain": [
       "array(['20 or more years', '5 to 10 years', '10 to 15 years',\n",
       "       '15 to 20 years', '1 to 5 years', 'Less than a year'], dtype=object)"
      ]
     },
     "execution_count": 9,
     "metadata": {},
     "output_type": "execute_result"
    }
   ],
   "source": [
    "df['YearsCodedJob'].dropna().unique()"
   ]
  },
  {
   "cell_type": "code",
   "execution_count": 10,
   "metadata": {},
   "outputs": [],
   "source": [
    "avg_salary = dict()\n",
    "for x in df['YearsCodedJob'].dropna().unique():\n",
    "    avg_salary[x] = df[df['YearsCodedJob']==x]['Salary'].mean()"
   ]
  },
  {
   "cell_type": "code",
   "execution_count": 11,
   "metadata": {},
   "outputs": [
    {
     "data": {
      "text/plain": [
       "{'20 or more years': 98128.09747715942,\n",
       " '5 to 10 years': 58476.291496972044,\n",
       " '10 to 15 years': 74247.61223478807,\n",
       " '15 to 20 years': 82861.66052403767,\n",
       " '1 to 5 years': 41404.73031190065,\n",
       " 'Less than a year': 33298.75204458006}"
      ]
     },
     "execution_count": 11,
     "metadata": {},
     "output_type": "execute_result"
    }
   ],
   "source": [
    "avg_salary"
   ]
  },
  {
   "cell_type": "code",
   "execution_count": 12,
   "metadata": {},
   "outputs": [],
   "source": [
    "def impute_Salary(cols):\n",
    "    Salary = cols[0]\n",
    "    ycj = cols[1]\n",
    "    \n",
    "    if(pd.isnull(Salary)):\n",
    "        if(pd.notnull(ycj)):\n",
    "            return avg_salary[ycj]\n",
    "    return Salary"
   ]
  },
  {
   "cell_type": "code",
   "execution_count": 13,
   "metadata": {},
   "outputs": [],
   "source": [
    "df['Salary'] = df[[\"Salary\",\"YearsCodedJob\"]].apply(impute_Salary,axis=1)"
   ]
  },
  {
   "cell_type": "code",
   "execution_count": 14,
   "metadata": {},
   "outputs": [
    {
     "data": {
      "text/plain": [
       "40948"
      ]
     },
     "execution_count": 14,
     "metadata": {},
     "output_type": "execute_result"
    }
   ],
   "source": [
    "df['Salary'].count()"
   ]
  },
  {
   "cell_type": "code",
   "execution_count": 15,
   "metadata": {
    "scrolled": true
   },
   "outputs": [
    {
     "data": {
      "text/html": [
       "<div>\n",
       "<style scoped>\n",
       "    .dataframe tbody tr th:only-of-type {\n",
       "        vertical-align: middle;\n",
       "    }\n",
       "\n",
       "    .dataframe tbody tr th {\n",
       "        vertical-align: top;\n",
       "    }\n",
       "\n",
       "    .dataframe thead th {\n",
       "        text-align: right;\n",
       "    }\n",
       "</style>\n",
       "<table border=\"1\" class=\"dataframe\">\n",
       "  <thead>\n",
       "    <tr style=\"text-align: right;\">\n",
       "      <th></th>\n",
       "      <th>YearsCodedJob</th>\n",
       "      <th>Salary</th>\n",
       "    </tr>\n",
       "    <tr>\n",
       "      <th>Respondent</th>\n",
       "      <th></th>\n",
       "      <th></th>\n",
       "    </tr>\n",
       "  </thead>\n",
       "  <tbody>\n",
       "    <tr>\n",
       "      <th>1</th>\n",
       "      <td>NaN</td>\n",
       "      <td>NaN</td>\n",
       "    </tr>\n",
       "    <tr>\n",
       "      <th>2</th>\n",
       "      <td>NaN</td>\n",
       "      <td>NaN</td>\n",
       "    </tr>\n",
       "    <tr>\n",
       "      <th>3</th>\n",
       "      <td>20 or more years</td>\n",
       "      <td>113750.000000</td>\n",
       "    </tr>\n",
       "    <tr>\n",
       "      <th>4</th>\n",
       "      <td>5 to 10 years</td>\n",
       "      <td>58476.291497</td>\n",
       "    </tr>\n",
       "    <tr>\n",
       "      <th>5</th>\n",
       "      <td>10 to 15 years</td>\n",
       "      <td>74247.612235</td>\n",
       "    </tr>\n",
       "    <tr>\n",
       "      <th>6</th>\n",
       "      <td>NaN</td>\n",
       "      <td>NaN</td>\n",
       "    </tr>\n",
       "    <tr>\n",
       "      <th>7</th>\n",
       "      <td>5 to 10 years</td>\n",
       "      <td>58476.291497</td>\n",
       "    </tr>\n",
       "    <tr>\n",
       "      <th>8</th>\n",
       "      <td>5 to 10 years</td>\n",
       "      <td>58476.291497</td>\n",
       "    </tr>\n",
       "    <tr>\n",
       "      <th>9</th>\n",
       "      <td>5 to 10 years</td>\n",
       "      <td>58476.291497</td>\n",
       "    </tr>\n",
       "    <tr>\n",
       "      <th>10</th>\n",
       "      <td>5 to 10 years</td>\n",
       "      <td>58476.291497</td>\n",
       "    </tr>\n",
       "  </tbody>\n",
       "</table>\n",
       "</div>"
      ],
      "text/plain": [
       "               YearsCodedJob         Salary\n",
       "Respondent                                 \n",
       "1                        NaN            NaN\n",
       "2                        NaN            NaN\n",
       "3           20 or more years  113750.000000\n",
       "4              5 to 10 years   58476.291497\n",
       "5             10 to 15 years   74247.612235\n",
       "6                        NaN            NaN\n",
       "7              5 to 10 years   58476.291497\n",
       "8              5 to 10 years   58476.291497\n",
       "9              5 to 10 years   58476.291497\n",
       "10             5 to 10 years   58476.291497"
      ]
     },
     "execution_count": 15,
     "metadata": {},
     "output_type": "execute_result"
    }
   ],
   "source": [
    "df[['YearsCodedJob','Salary']].head(10)"
   ]
  },
  {
   "cell_type": "markdown",
   "metadata": {},
   "source": [
    "## Assess Columns  Cleaning and analysis"
   ]
  },
  {
   "cell_type": "code",
   "execution_count": 16,
   "metadata": {},
   "outputs": [
    {
     "data": {
      "text/plain": [
       "array(['Very important', nan, 'Somewhat important', 'Important',\n",
       "       'Not very important', 'Not at all important'], dtype=object)"
      ]
     },
     "execution_count": 16,
     "metadata": {},
     "output_type": "execute_result"
    }
   ],
   "source": [
    "df['AssessJobIndustry'].unique()"
   ]
  },
  {
   "cell_type": "code",
   "execution_count": 17,
   "metadata": {},
   "outputs": [
    {
     "data": {
      "text/html": [
       "<div>\n",
       "<style scoped>\n",
       "    .dataframe tbody tr th:only-of-type {\n",
       "        vertical-align: middle;\n",
       "    }\n",
       "\n",
       "    .dataframe tbody tr th {\n",
       "        vertical-align: top;\n",
       "    }\n",
       "\n",
       "    .dataframe thead th {\n",
       "        text-align: right;\n",
       "    }\n",
       "</style>\n",
       "<table border=\"1\" class=\"dataframe\">\n",
       "  <thead>\n",
       "    <tr style=\"text-align: right;\">\n",
       "      <th></th>\n",
       "      <th>AssessJobIndustry</th>\n",
       "      <th>AssessJobRole</th>\n",
       "      <th>AssessJobExp</th>\n",
       "      <th>AssessJobDept</th>\n",
       "      <th>AssessJobTech</th>\n",
       "      <th>AssessJobProjects</th>\n",
       "      <th>AssessJobCompensation</th>\n",
       "      <th>AssessJobOffice</th>\n",
       "      <th>AssessJobCommute</th>\n",
       "      <th>AssessJobRemote</th>\n",
       "      <th>AssessJobProfDevel</th>\n",
       "      <th>AssessJobDiversity</th>\n",
       "      <th>AssessJobProduct</th>\n",
       "      <th>AssessJobFinances</th>\n",
       "    </tr>\n",
       "    <tr>\n",
       "      <th>Respondent</th>\n",
       "      <th></th>\n",
       "      <th></th>\n",
       "      <th></th>\n",
       "      <th></th>\n",
       "      <th></th>\n",
       "      <th></th>\n",
       "      <th></th>\n",
       "      <th></th>\n",
       "      <th></th>\n",
       "      <th></th>\n",
       "      <th></th>\n",
       "      <th></th>\n",
       "      <th></th>\n",
       "      <th></th>\n",
       "    </tr>\n",
       "  </thead>\n",
       "  <tbody>\n",
       "    <tr>\n",
       "      <th>1</th>\n",
       "      <td>Very important</td>\n",
       "      <td>Very important</td>\n",
       "      <td>Important</td>\n",
       "      <td>Very important</td>\n",
       "      <td>Very important</td>\n",
       "      <td>Very important</td>\n",
       "      <td>Important</td>\n",
       "      <td>Very important</td>\n",
       "      <td>Very important</td>\n",
       "      <td>Very important</td>\n",
       "      <td>Very important</td>\n",
       "      <td>Somewhat important</td>\n",
       "      <td>Not very important</td>\n",
       "      <td>Somewhat important</td>\n",
       "    </tr>\n",
       "    <tr>\n",
       "      <th>2</th>\n",
       "      <td>NaN</td>\n",
       "      <td>NaN</td>\n",
       "      <td>NaN</td>\n",
       "      <td>NaN</td>\n",
       "      <td>NaN</td>\n",
       "      <td>NaN</td>\n",
       "      <td>NaN</td>\n",
       "      <td>NaN</td>\n",
       "      <td>NaN</td>\n",
       "      <td>NaN</td>\n",
       "      <td>NaN</td>\n",
       "      <td>NaN</td>\n",
       "      <td>NaN</td>\n",
       "      <td>NaN</td>\n",
       "    </tr>\n",
       "    <tr>\n",
       "      <th>3</th>\n",
       "      <td>NaN</td>\n",
       "      <td>NaN</td>\n",
       "      <td>NaN</td>\n",
       "      <td>NaN</td>\n",
       "      <td>NaN</td>\n",
       "      <td>NaN</td>\n",
       "      <td>NaN</td>\n",
       "      <td>NaN</td>\n",
       "      <td>NaN</td>\n",
       "      <td>NaN</td>\n",
       "      <td>NaN</td>\n",
       "      <td>NaN</td>\n",
       "      <td>NaN</td>\n",
       "      <td>NaN</td>\n",
       "    </tr>\n",
       "    <tr>\n",
       "      <th>4</th>\n",
       "      <td>Somewhat important</td>\n",
       "      <td>Somewhat important</td>\n",
       "      <td>Somewhat important</td>\n",
       "      <td>Important</td>\n",
       "      <td>Important</td>\n",
       "      <td>Very important</td>\n",
       "      <td>Important</td>\n",
       "      <td>Very important</td>\n",
       "      <td>Important</td>\n",
       "      <td>Somewhat important</td>\n",
       "      <td>Very important</td>\n",
       "      <td>Important</td>\n",
       "      <td>Very important</td>\n",
       "      <td>Very important</td>\n",
       "    </tr>\n",
       "    <tr>\n",
       "      <th>5</th>\n",
       "      <td>NaN</td>\n",
       "      <td>NaN</td>\n",
       "      <td>NaN</td>\n",
       "      <td>NaN</td>\n",
       "      <td>NaN</td>\n",
       "      <td>NaN</td>\n",
       "      <td>NaN</td>\n",
       "      <td>NaN</td>\n",
       "      <td>NaN</td>\n",
       "      <td>NaN</td>\n",
       "      <td>NaN</td>\n",
       "      <td>NaN</td>\n",
       "      <td>NaN</td>\n",
       "      <td>NaN</td>\n",
       "    </tr>\n",
       "    <tr>\n",
       "      <th>...</th>\n",
       "      <td>...</td>\n",
       "      <td>...</td>\n",
       "      <td>...</td>\n",
       "      <td>...</td>\n",
       "      <td>...</td>\n",
       "      <td>...</td>\n",
       "      <td>...</td>\n",
       "      <td>...</td>\n",
       "      <td>...</td>\n",
       "      <td>...</td>\n",
       "      <td>...</td>\n",
       "      <td>...</td>\n",
       "      <td>...</td>\n",
       "      <td>...</td>\n",
       "    </tr>\n",
       "    <tr>\n",
       "      <th>51388</th>\n",
       "      <td>Important</td>\n",
       "      <td>Somewhat important</td>\n",
       "      <td>Important</td>\n",
       "      <td>Somewhat important</td>\n",
       "      <td>Important</td>\n",
       "      <td>Not very important</td>\n",
       "      <td>Very important</td>\n",
       "      <td>Somewhat important</td>\n",
       "      <td>Somewhat important</td>\n",
       "      <td>Somewhat important</td>\n",
       "      <td>Very important</td>\n",
       "      <td>Very important</td>\n",
       "      <td>Somewhat important</td>\n",
       "      <td>Important</td>\n",
       "    </tr>\n",
       "    <tr>\n",
       "      <th>51389</th>\n",
       "      <td>NaN</td>\n",
       "      <td>NaN</td>\n",
       "      <td>NaN</td>\n",
       "      <td>NaN</td>\n",
       "      <td>NaN</td>\n",
       "      <td>NaN</td>\n",
       "      <td>NaN</td>\n",
       "      <td>NaN</td>\n",
       "      <td>NaN</td>\n",
       "      <td>NaN</td>\n",
       "      <td>NaN</td>\n",
       "      <td>NaN</td>\n",
       "      <td>NaN</td>\n",
       "      <td>NaN</td>\n",
       "    </tr>\n",
       "    <tr>\n",
       "      <th>51390</th>\n",
       "      <td>NaN</td>\n",
       "      <td>NaN</td>\n",
       "      <td>NaN</td>\n",
       "      <td>NaN</td>\n",
       "      <td>NaN</td>\n",
       "      <td>NaN</td>\n",
       "      <td>NaN</td>\n",
       "      <td>NaN</td>\n",
       "      <td>NaN</td>\n",
       "      <td>NaN</td>\n",
       "      <td>NaN</td>\n",
       "      <td>NaN</td>\n",
       "      <td>NaN</td>\n",
       "      <td>NaN</td>\n",
       "    </tr>\n",
       "    <tr>\n",
       "      <th>51391</th>\n",
       "      <td>Not very important</td>\n",
       "      <td>Important</td>\n",
       "      <td>Important</td>\n",
       "      <td>Important</td>\n",
       "      <td>Not very important</td>\n",
       "      <td>Important</td>\n",
       "      <td>Important</td>\n",
       "      <td>Important</td>\n",
       "      <td>Not very important</td>\n",
       "      <td>Not at all important</td>\n",
       "      <td>Very important</td>\n",
       "      <td>Very important</td>\n",
       "      <td>Not at all important</td>\n",
       "      <td>Somewhat important</td>\n",
       "    </tr>\n",
       "    <tr>\n",
       "      <th>51392</th>\n",
       "      <td>Very important</td>\n",
       "      <td>Somewhat important</td>\n",
       "      <td>Not very important</td>\n",
       "      <td>Very important</td>\n",
       "      <td>Important</td>\n",
       "      <td>Very important</td>\n",
       "      <td>Very important</td>\n",
       "      <td>Very important</td>\n",
       "      <td>Very important</td>\n",
       "      <td>Important</td>\n",
       "      <td>Very important</td>\n",
       "      <td>Very important</td>\n",
       "      <td>Very important</td>\n",
       "      <td>Somewhat important</td>\n",
       "    </tr>\n",
       "  </tbody>\n",
       "</table>\n",
       "<p>51392 rows × 14 columns</p>\n",
       "</div>"
      ],
      "text/plain": [
       "             AssessJobIndustry       AssessJobRole        AssessJobExp  \\\n",
       "Respondent                                                               \n",
       "1               Very important      Very important           Important   \n",
       "2                          NaN                 NaN                 NaN   \n",
       "3                          NaN                 NaN                 NaN   \n",
       "4           Somewhat important  Somewhat important  Somewhat important   \n",
       "5                          NaN                 NaN                 NaN   \n",
       "...                        ...                 ...                 ...   \n",
       "51388                Important  Somewhat important           Important   \n",
       "51389                      NaN                 NaN                 NaN   \n",
       "51390                      NaN                 NaN                 NaN   \n",
       "51391       Not very important           Important           Important   \n",
       "51392           Very important  Somewhat important  Not very important   \n",
       "\n",
       "                 AssessJobDept       AssessJobTech   AssessJobProjects  \\\n",
       "Respondent                                                               \n",
       "1               Very important      Very important      Very important   \n",
       "2                          NaN                 NaN                 NaN   \n",
       "3                          NaN                 NaN                 NaN   \n",
       "4                    Important           Important      Very important   \n",
       "5                          NaN                 NaN                 NaN   \n",
       "...                        ...                 ...                 ...   \n",
       "51388       Somewhat important           Important  Not very important   \n",
       "51389                      NaN                 NaN                 NaN   \n",
       "51390                      NaN                 NaN                 NaN   \n",
       "51391                Important  Not very important           Important   \n",
       "51392           Very important           Important      Very important   \n",
       "\n",
       "           AssessJobCompensation     AssessJobOffice    AssessJobCommute  \\\n",
       "Respondent                                                                 \n",
       "1                      Important      Very important      Very important   \n",
       "2                            NaN                 NaN                 NaN   \n",
       "3                            NaN                 NaN                 NaN   \n",
       "4                      Important      Very important           Important   \n",
       "5                            NaN                 NaN                 NaN   \n",
       "...                          ...                 ...                 ...   \n",
       "51388             Very important  Somewhat important  Somewhat important   \n",
       "51389                        NaN                 NaN                 NaN   \n",
       "51390                        NaN                 NaN                 NaN   \n",
       "51391                  Important           Important  Not very important   \n",
       "51392             Very important      Very important      Very important   \n",
       "\n",
       "                 AssessJobRemote AssessJobProfDevel  AssessJobDiversity  \\\n",
       "Respondent                                                                \n",
       "1                 Very important     Very important  Somewhat important   \n",
       "2                            NaN                NaN                 NaN   \n",
       "3                            NaN                NaN                 NaN   \n",
       "4             Somewhat important     Very important           Important   \n",
       "5                            NaN                NaN                 NaN   \n",
       "...                          ...                ...                 ...   \n",
       "51388         Somewhat important     Very important      Very important   \n",
       "51389                        NaN                NaN                 NaN   \n",
       "51390                        NaN                NaN                 NaN   \n",
       "51391       Not at all important     Very important      Very important   \n",
       "51392                  Important     Very important      Very important   \n",
       "\n",
       "                AssessJobProduct   AssessJobFinances  \n",
       "Respondent                                            \n",
       "1             Not very important  Somewhat important  \n",
       "2                            NaN                 NaN  \n",
       "3                            NaN                 NaN  \n",
       "4                 Very important      Very important  \n",
       "5                            NaN                 NaN  \n",
       "...                          ...                 ...  \n",
       "51388         Somewhat important           Important  \n",
       "51389                        NaN                 NaN  \n",
       "51390                        NaN                 NaN  \n",
       "51391       Not at all important  Somewhat important  \n",
       "51392             Very important  Somewhat important  \n",
       "\n",
       "[51392 rows x 14 columns]"
      ]
     },
     "execution_count": 17,
     "metadata": {},
     "output_type": "execute_result"
    }
   ],
   "source": [
    "df.iloc[:,20:34]"
   ]
  },
  {
   "cell_type": "code",
   "execution_count": 18,
   "metadata": {},
   "outputs": [],
   "source": [
    "def assess_score(cols):\n",
    "    score = 0\n",
    "    \n",
    "    for x in cols:\n",
    "        if pd.isnull(x):\n",
    "            score += 0\n",
    "        elif x == 'Not at all important':\n",
    "            score += 0.5\n",
    "        elif x == 'Not very important':\n",
    "            score += 1\n",
    "        elif x == 'Somewhat important':\n",
    "            score += 1.5\n",
    "        elif x == 'Important':\n",
    "            score += 2\n",
    "        else:\n",
    "            score += 2.5\n",
    "                    \n",
    "    return score"
   ]
  },
  {
   "cell_type": "code",
   "execution_count": 19,
   "metadata": {},
   "outputs": [],
   "source": [
    "temp = df.iloc[:,20:34].apply(assess_score,axis=1)"
   ]
  },
  {
   "cell_type": "code",
   "execution_count": 20,
   "metadata": {},
   "outputs": [
    {
     "data": {
      "text/plain": [
       "Respondent\n",
       "1    30.5\n",
       "2     0.0\n",
       "3     0.0\n",
       "4    28.5\n",
       "5     0.0\n",
       "dtype: float64"
      ]
     },
     "execution_count": 20,
     "metadata": {},
     "output_type": "execute_result"
    }
   ],
   "source": [
    "temp[:5]"
   ]
  },
  {
   "cell_type": "code",
   "execution_count": 21,
   "metadata": {},
   "outputs": [],
   "source": [
    "df['Access_Scoring']=temp"
   ]
  },
  {
   "cell_type": "code",
   "execution_count": 22,
   "metadata": {},
   "outputs": [
    {
     "name": "stdout",
     "output_type": "stream",
     "text": [
      "<class 'pandas.core.frame.DataFrame'>\n",
      "Int64Index: 51392 entries, 1 to 51392\n",
      "Data columns (total 40 columns):\n",
      " #   Column                   Non-Null Count  Dtype  \n",
      "---  ------                   --------------  -----  \n",
      " 0   Professional             51392 non-null  object \n",
      " 1   ProgramHobby             51392 non-null  object \n",
      " 2   Country                  51392 non-null  object \n",
      " 3   University               51392 non-null  object \n",
      " 4   EmploymentStatus         51392 non-null  object \n",
      " 5   FormalEducation          51392 non-null  object \n",
      " 6   MajorUndergrad           42841 non-null  object \n",
      " 7   YearsCodedJob            40891 non-null  object \n",
      " 8   DeveloperType            36125 non-null  object \n",
      " 9   NonDeveloperType         4891 non-null   object \n",
      " 10  CareerSatisfaction       42695 non-null  float64\n",
      " 11  JobSatisfaction          40376 non-null  float64\n",
      " 12  ProblemSolving           31293 non-null  object \n",
      " 13  LearningNewTech          31304 non-null  object \n",
      " 14  JobSecurity              31240 non-null  object \n",
      " 15  DiversityImportant       30903 non-null  object \n",
      " 16  SeriousWork              31014 non-null  object \n",
      " 17  WorkPayCare              30965 non-null  object \n",
      " 18  ChallengeMyself          30971 non-null  object \n",
      " 19  LastNewJob               32710 non-null  object \n",
      " 20  ImportantBenefits        30235 non-null  object \n",
      " 21  JobProfile               24719 non-null  object \n",
      " 22  LearnedHiring            23737 non-null  object \n",
      " 23  Overpaid                 13387 non-null  object \n",
      " 24  EducationImportant       23355 non-null  object \n",
      " 25  EducationTypes           30354 non-null  object \n",
      " 26  WorkStart                36696 non-null  object \n",
      " 27  HaveWorkedLanguage       36625 non-null  object \n",
      " 28  WantWorkLanguage         33771 non-null  object \n",
      " 29  HaveWorkedDatabase       29452 non-null  object \n",
      " 30  WantWorkDatabase         25109 non-null  object \n",
      " 31  HaveWorkedPlatform       29114 non-null  object \n",
      " 32  WantWorkPlatform         27884 non-null  object \n",
      " 33  IDE                      35830 non-null  object \n",
      " 34  AuditoryEnvironment      36457 non-null  object \n",
      " 35  Gender                   35047 non-null  object \n",
      " 36  HighestEducationParents  34938 non-null  object \n",
      " 37  Salary                   40948 non-null  float64\n",
      " 38  ExpectedSalary           2566 non-null   float64\n",
      " 39  Access_Scoring           51392 non-null  float64\n",
      "dtypes: float64(5), object(35)\n",
      "memory usage: 18.1+ MB\n"
     ]
    }
   ],
   "source": [
    "temp=df.drop(df.iloc[:,20:34],axis=1)\n",
    "temp.info()"
   ]
  },
  {
   "cell_type": "code",
   "execution_count": 23,
   "metadata": {},
   "outputs": [
    {
     "data": {
      "text/plain": [
       "22689"
      ]
     },
     "execution_count": 23,
     "metadata": {},
     "output_type": "execute_result"
    }
   ],
   "source": [
    "temp[temp['Access_Scoring']!=0]['Access_Scoring'].count()"
   ]
  },
  {
   "cell_type": "code",
   "execution_count": 28,
   "metadata": {},
   "outputs": [
    {
     "data": {
      "text/plain": [
       "<AxesSubplot:xlabel='Access_Scoring', ylabel='CareerSatisfaction'>"
      ]
     },
     "execution_count": 28,
     "metadata": {},
     "output_type": "execute_result"
    },
    {
     "data": {
      "image/png": "[encoded data removed]",
      "text/plain": [
       "<Figure size 432x288 with 1 Axes>"
      ]
     },
     "metadata": {
      "needs_background": "light"
     },
     "output_type": "display_data"
    }
   ],
   "source": [
    "plt.figure(figsize =(6,4))\n",
    "sns.scatterplot(data=temp,x='Access_Scoring',y='CareerSatisfaction')"
   ]
  },
  {
   "cell_type": "code",
   "execution_count": 29,
   "metadata": {},
   "outputs": [
    {
     "data": {
      "text/plain": [
       "<AxesSubplot:xlabel='Access_Scoring', ylabel='JobSatisfaction'>"
      ]
     },
     "execution_count": 29,
     "metadata": {},
     "output_type": "execute_result"
    },
    {
     "data": {
      "image/png": "[encoded data removed]",
      "text/plain": [
       "<Figure size 432x288 with 1 Axes>"
      ]
     },
     "metadata": {
      "needs_background": "light"
     },
     "output_type": "display_data"
    }
   ],
   "source": [
    "plt.figure(figsize =(6,4))\n",
    "sns.scatterplot(data=temp,x='Access_Scoring',y='JobSatisfaction')"
   ]
  },
  {
   "cell_type": "code",
   "execution_count": 30,
   "metadata": {},
   "outputs": [
    {
     "data": {
      "text/plain": [
       "<AxesSubplot:xlabel='Salary', ylabel='JobSatisfaction'>"
      ]
     },
     "execution_count": 30,
     "metadata": {},
     "output_type": "execute_result"
    },
    {
     "data": {
      "image/png": "[encoded data removed]",
      "text/plain": [
       "<Figure size 432x288 with 1 Axes>"
      ]
     },
     "metadata": {
      "needs_background": "light"
     },
     "output_type": "display_data"
    }
   ],
   "source": [
    "plt.figure(figsize =(6,4))\n",
    "sns.scatterplot(data=temp,x='Salary',y='JobSatisfaction')"
   ]
  },
  {
   "cell_type": "code",
   "execution_count": 33,
   "metadata": {},
   "outputs": [
    {
     "data": {
      "text/plain": [
       "<seaborn.axisgrid.JointGrid at 0x2d15a13f708>"
      ]
     },
     "execution_count": 33,
     "metadata": {},
     "output_type": "execute_result"
    },
    {
     "data": {
      "text/plain": [
       "<Figure size 432x288 with 0 Axes>"
      ]
     },
     "metadata": {},
     "output_type": "display_data"
    },
    {
     "data": {
      "image/png": "[encoded data removed]",
      "text/plain": [
       "<Figure size 432x432 with 3 Axes>"
      ]
     },
     "metadata": {
      "needs_background": "light"
     },
     "output_type": "display_data"
    }
   ],
   "source": [
    "plt.figure(figsize =(6,4))\n",
    "sns.jointplot(data=temp,x='Salary',y='CareerSatisfaction')"
   ]
  },
  {
   "cell_type": "code",
   "execution_count": 35,
   "metadata": {},
   "outputs": [
    {
     "data": {
      "text/plain": [
       "<AxesSubplot:xlabel='YearsCodedJob', ylabel='JobSatisfaction'>"
      ]
     },
     "execution_count": 35,
     "metadata": {},
     "output_type": "execute_result"
    },
    {
     "data": {
      "image/png": "[encoded data removed]",
      "text/plain": [
       "<Figure size 720x432 with 1 Axes>"
      ]
     },
     "metadata": {
      "needs_background": "light"
     },
     "output_type": "display_data"
    }
   ],
   "source": [
    "plt.figure(figsize =(10,6))\n",
    "sns.boxplot(data=temp,x='YearsCodedJob',y='JobSatisfaction')"
   ]
  },
  {
   "cell_type": "code",
   "execution_count": null,
   "metadata": {},
   "outputs": [],
   "source": []
  }
 ],
 "metadata": {
  "kernelspec": {
   "display_name": "Python 3",
   "language": "python",
   "name": "python3"
  },
  "language_info": {
   "codemirror_mode": {
    "name": "ipython",
    "version": 3
   },
   "file_extension": ".py",
   "mimetype": "text/x-python",
   "name": "python",
   "nbconvert_exporter": "python",
   "pygments_lexer": "ipython3",
   "version": "3.7.4"
  }
 },
 "nbformat": 4,
 "nbformat_minor": 5
}
